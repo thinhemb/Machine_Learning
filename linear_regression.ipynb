{
 "metadata": {
  "language_info": {
   "codemirror_mode": {
    "name": "ipython",
    "version": 3
   },
   "file_extension": ".py",
   "mimetype": "text/x-python",
   "name": "python",
   "nbconvert_exporter": "python",
   "pygments_lexer": "ipython3",
   "version": "3.9.0-final"
  },
  "orig_nbformat": 2,
  "kernelspec": {
   "name": "python3",
   "display_name": "Python 3",
   "language": "python"
  }
 },
 "nbformat": 4,
 "nbformat_minor": 2,
 "cells": [
  {
   "cell_type": "code",
   "execution_count": 2,
   "metadata": {},
   "outputs": [],
   "source": [
    "import numpy as np\n",
    "import matplotlib.pyplot as plt\n",
    "import csv\n",
    "import pandas as pd\n",
    "from sklearn.linear_model import LinearRegression"
   ]
  },
  {
   "cell_type": "code",
   "execution_count": 3,
   "metadata": {},
   "outputs": [
    {
     "output_type": "stream",
     "name": "stdout",
     "text": [
      "        CRIM    ZN  INDUS  CHAS    NOX     RM   AGE     DIS  RAD    TAX  \\\n",
      "0    0.00632  18.0   2.31     0  0.538  6.575  65.2  4.0900    1  296.0   \n",
      "1    0.02731   0.0   7.07     0  0.469  6.421  78.9  4.9671    2  242.0   \n",
      "2    0.02729   0.0   7.07     0  0.469  7.185  61.1  4.9671    2  242.0   \n",
      "3    0.03237   0.0   2.18     0  0.458  6.998  45.8  6.0622    3  222.0   \n",
      "4    0.06905   0.0   2.18     0  0.458  7.147  54.2  6.0622    3  222.0   \n",
      "..       ...   ...    ...   ...    ...    ...   ...     ...  ...    ...   \n",
      "501  0.06263   0.0  11.93     0  0.573  6.593  69.1  2.4786    1  273.0   \n",
      "502  0.04527   0.0  11.93     0  0.573  6.120  76.7  2.2875    1  273.0   \n",
      "503  0.06076   0.0  11.93     0  0.573  6.976  91.0  2.1675    1  273.0   \n",
      "504  0.10959   0.0  11.93     0  0.573  6.794  89.3  2.3889    1  273.0   \n",
      "505  0.04741   0.0  11.93     0  0.573  6.030  80.8  2.5050    1  273.0   \n",
      "\n",
      "     PTRATIO       B  LSTAT  PRICE  \n",
      "0       15.3  396.90   4.98   24.0  \n",
      "1       17.8  396.90   9.14   21.6  \n",
      "2       17.8  392.83   4.03   34.7  \n",
      "3       18.7  394.63   2.94   33.4  \n",
      "4       18.7  396.90   5.33   36.2  \n",
      "..       ...     ...    ...    ...  \n",
      "501     21.0  391.99   9.67   22.4  \n",
      "502     21.0  396.90   9.08   20.6  \n",
      "503     21.0  396.90   5.64   23.9  \n",
      "504     21.0  393.45   6.48   22.0  \n",
      "505     21.0  396.90   7.88   11.9  \n",
      "\n",
      "[506 rows x 14 columns]\n"
     ]
    }
   ],
   "source": [
    "m_house = pd.read_csv(\"E:\\\\Hoc_Tap\\\\ML\\\\housing.csv\",delim_whitespace =True, header = None) # doc csv\n",
    "\n",
    "column = ['CRIM', 'ZN', 'INDUS', 'CHAS', 'NOX', 'RM', 'AGE', 'DIS', 'RAD', 'TAX','PTRATIO', 'B', 'LSTAT', 'PRICE']\n",
    "m_house.columns = column # them ten cot\n",
    "print(m_house) #hien thi bang"
   ]
  },
  {
   "cell_type": "code",
   "execution_count": 5,
   "metadata": {},
   "outputs": [
    {
     "output_type": "stream",
     "name": "stdout",
     "text": [
      "<class 'pandas.core.frame.DataFrame'>\nRangeIndex: 506 entries, 0 to 505\nData columns (total 14 columns):\n #   Column   Non-Null Count  Dtype  \n---  ------   --------------  -----  \n 0   CRIM     506 non-null    float64\n 1   ZN       506 non-null    float64\n 2   INDUS    506 non-null    float64\n 3   CHAS     506 non-null    int64  \n 4   NOX      506 non-null    float64\n 5   RM       506 non-null    float64\n 6   AGE      506 non-null    float64\n 7   DIS      506 non-null    float64\n 8   RAD      506 non-null    int64  \n 9   TAX      506 non-null    float64\n 10  PTRATIO  506 non-null    float64\n 11  B        506 non-null    float64\n 12  LSTAT    506 non-null    float64\n 13  PRICE    506 non-null    float64\ndtypes: float64(12), int64(2)\nmemory usage: 55.5 KB\n"
     ]
    }
   ],
   "source": [
    "m_house.info() "
   ]
  },
  {
   "cell_type": "code",
   "execution_count": 6,
   "metadata": {},
   "outputs": [
    {
     "output_type": "stream",
     "name": "stdout",
     "text": [
      "(506, 13)\n(506,)\n"
     ]
    }
   ],
   "source": [
    "x_data=m_house.drop('PRICE',axis=1)#  x_data gán dũ liệu từ bảng trừ cột PRICE\n",
    "y_data=m_house.PRICE #gán biến y_data= cot PRiCE\n",
    "\n",
    "print(x_data.shape)\n",
    "print(y_data.shape)#kich thước 2 biến"
   ]
  },
  {
   "cell_type": "code",
   "execution_count": 7,
   "metadata": {},
   "outputs": [
    {
     "output_type": "stream",
     "name": "stdout",
     "text": [
      "0      24.0\n1      21.6\n2      34.7\n3      33.4\n4      36.2\n       ... \n501    22.4\n502    20.6\n503    23.9\n504    22.0\n505    11.9\nName: PRICE, Length: 506, dtype: float64\n"
     ]
    }
   ],
   "source": [
    "print(y_data)"
   ]
  },
  {
   "cell_type": "code",
   "execution_count": 8,
   "metadata": {},
   "outputs": [
    {
     "output_type": "stream",
     "name": "stdout",
     "text": [
      "[[24. ]\n [21.6]\n [34.7]\n [33.4]\n [36.2]\n [28.7]\n [22.9]\n [27.1]\n [16.5]\n [18.9]\n [15. ]\n [18.9]\n [21.7]\n [20.4]\n [18.2]\n [19.9]\n [23.1]\n [17.5]\n [20.2]\n [18.2]\n [13.6]\n [19.6]\n [15.2]\n [14.5]\n [15.6]\n [13.9]\n [16.6]\n [14.8]\n [18.4]\n [21. ]\n [12.7]\n [14.5]\n [13.2]\n [13.1]\n [13.5]\n [18.9]\n [20. ]\n [21. ]\n [24.7]\n [30.8]\n [34.9]\n [26.6]\n [25.3]\n [24.7]\n [21.2]\n [19.3]\n [20. ]\n [16.6]\n [14.4]\n [19.4]\n [19.7]\n [20.5]\n [25. ]\n [23.4]\n [18.9]\n [35.4]\n [24.7]\n [31.6]\n [23.3]\n [19.6]\n [18.7]\n [16. ]\n [22.2]\n [25. ]\n [33. ]\n [23.5]\n [19.4]\n [22. ]\n [17.4]\n [20.9]\n [24.2]\n [21.7]\n [22.8]\n [23.4]\n [24.1]\n [21.4]\n [20. ]\n [20.8]\n [21.2]\n [20.3]\n [28. ]\n [23.9]\n [24.8]\n [22.9]\n [23.9]\n [26.6]\n [22.5]\n [22.2]\n [23.6]\n [28.7]\n [22.6]\n [22. ]\n [22.9]\n [25. ]\n [20.6]\n [28.4]\n [21.4]\n [38.7]\n [43.8]\n [33.2]\n [27.5]\n [26.5]\n [18.6]\n [19.3]\n [20.1]\n [19.5]\n [19.5]\n [20.4]\n [19.8]\n [19.4]\n [21.7]\n [22.8]\n [18.8]\n [18.7]\n [18.5]\n [18.3]\n [21.2]\n [19.2]\n [20.4]\n [19.3]\n [22. ]\n [20.3]\n [20.5]\n [17.3]\n [18.8]\n [21.4]\n [15.7]\n [16.2]\n [18. ]\n [14.3]\n [19.2]\n [19.6]\n [23. ]\n [18.4]\n [15.6]\n [18.1]\n [17.4]\n [17.1]\n [13.3]\n [17.8]\n [14. ]\n [14.4]\n [13.4]\n [15.6]\n [11.8]\n [13.8]\n [15.6]\n [14.6]\n [17.8]\n [15.4]\n [21.5]\n [19.6]\n [15.3]\n [19.4]\n [17. ]\n [15.6]\n [13.1]\n [41.3]\n [24.3]\n [23.3]\n [27. ]\n [50. ]\n [50. ]\n [50. ]\n [22.7]\n [25. ]\n [50. ]\n [23.8]\n [23.8]\n [22.3]\n [17.4]\n [19.1]\n [23.1]\n [23.6]\n [22.6]\n [29.4]\n [23.2]\n [24.6]\n [29.9]\n [37.2]\n [39.8]\n [36.2]\n [37.9]\n [32.5]\n [26.4]\n [29.6]\n [50. ]\n [32. ]\n [29.8]\n [34.9]\n [37. ]\n [30.5]\n [36.4]\n [31.1]\n [29.1]\n [50. ]\n [33.3]\n [30.3]\n [34.6]\n [34.9]\n [32.9]\n [24.1]\n [42.3]\n [48.5]\n [50. ]\n [22.6]\n [24.4]\n [22.5]\n [24.4]\n [20. ]\n [21.7]\n [19.3]\n [22.4]\n [28.1]\n [23.7]\n [25. ]\n [23.3]\n [28.7]\n [21.5]\n [23. ]\n [26.7]\n [21.7]\n [27.5]\n [30.1]\n [44.8]\n [50. ]\n [37.6]\n [31.6]\n [46.7]\n [31.5]\n [24.3]\n [31.7]\n [41.7]\n [48.3]\n [29. ]\n [24. ]\n [25.1]\n [31.5]\n [23.7]\n [23.3]\n [22. ]\n [20.1]\n [22.2]\n [23.7]\n [17.6]\n [18.5]\n [24.3]\n [20.5]\n [24.5]\n [26.2]\n [24.4]\n [24.8]\n [29.6]\n [42.8]\n [21.9]\n [20.9]\n [44. ]\n [50. ]\n [36. ]\n [30.1]\n [33.8]\n [43.1]\n [48.8]\n [31. ]\n [36.5]\n [22.8]\n [30.7]\n [50. ]\n [43.5]\n [20.7]\n [21.1]\n [25.2]\n [24.4]\n [35.2]\n [32.4]\n [32. ]\n [33.2]\n [33.1]\n [29.1]\n [35.1]\n [45.4]\n [35.4]\n [46. ]\n [50. ]\n [32.2]\n [22. ]\n [20.1]\n [23.2]\n [22.3]\n [24.8]\n [28.5]\n [37.3]\n [27.9]\n [23.9]\n [21.7]\n [28.6]\n [27.1]\n [20.3]\n [22.5]\n [29. ]\n [24.8]\n [22. ]\n [26.4]\n [33.1]\n [36.1]\n [28.4]\n [33.4]\n [28.2]\n [22.8]\n [20.3]\n [16.1]\n [22.1]\n [19.4]\n [21.6]\n [23.8]\n [16.2]\n [17.8]\n [19.8]\n [23.1]\n [21. ]\n [23.8]\n [23.1]\n [20.4]\n [18.5]\n [25. ]\n [24.6]\n [23. ]\n [22.2]\n [19.3]\n [22.6]\n [19.8]\n [17.1]\n [19.4]\n [22.2]\n [20.7]\n [21.1]\n [19.5]\n [18.5]\n [20.6]\n [19. ]\n [18.7]\n [32.7]\n [16.5]\n [23.9]\n [31.2]\n [17.5]\n [17.2]\n [23.1]\n [24.5]\n [26.6]\n [22.9]\n [24.1]\n [18.6]\n [30.1]\n [18.2]\n [20.6]\n [17.8]\n [21.7]\n [22.7]\n [22.6]\n [25. ]\n [19.9]\n [20.8]\n [16.8]\n [21.9]\n [27.5]\n [21.9]\n [23.1]\n [50. ]\n [50. ]\n [50. ]\n [50. ]\n [50. ]\n [13.8]\n [13.8]\n [15. ]\n [13.9]\n [13.3]\n [13.1]\n [10.2]\n [10.4]\n [10.9]\n [11.3]\n [12.3]\n [ 8.8]\n [ 7.2]\n [10.5]\n [ 7.4]\n [10.2]\n [11.5]\n [15.1]\n [23.2]\n [ 9.7]\n [13.8]\n [12.7]\n [13.1]\n [12.5]\n [ 8.5]\n [ 5. ]\n [ 6.3]\n [ 5.6]\n [ 7.2]\n [12.1]\n [ 8.3]\n [ 8.5]\n [ 5. ]\n [11.9]\n [27.9]\n [17.2]\n [27.5]\n [15. ]\n [17.2]\n [17.9]\n [16.3]\n [ 7. ]\n [ 7.2]\n [ 7.5]\n [10.4]\n [ 8.8]\n [ 8.4]\n [16.7]\n [14.2]\n [20.8]\n [13.4]\n [11.7]\n [ 8.3]\n [10.2]\n [10.9]\n [11. ]\n [ 9.5]\n [14.5]\n [14.1]\n [16.1]\n [14.3]\n [11.7]\n [13.4]\n [ 9.6]\n [ 8.7]\n [ 8.4]\n [12.8]\n [10.5]\n [17.1]\n [18.4]\n [15.4]\n [10.8]\n [11.8]\n [14.9]\n [12.6]\n [14.1]\n [13. ]\n [13.4]\n [15.2]\n [16.1]\n [17.8]\n [14.9]\n [14.1]\n [12.7]\n [13.5]\n [14.9]\n [20. ]\n [16.4]\n [17.7]\n [19.5]\n [20.2]\n [21.4]\n [19.9]\n [19. ]\n [19.1]\n [19.1]\n [20.1]\n [19.9]\n [19.6]\n [23.2]\n [29.8]\n [13.8]\n [13.3]\n [16.7]\n [12. ]\n [14.6]\n [21.4]\n [23. ]\n [23.7]\n [25. ]\n [21.8]\n [20.6]\n [21.2]\n [19.1]\n [20.6]\n [15.2]\n [ 7. ]\n [ 8.1]\n [13.6]\n [20.1]\n [21.8]\n [24.5]\n [23.1]\n [19.7]\n [18.3]\n [21.2]\n [17.5]\n [16.8]\n [22.4]\n [20.6]\n [23.9]\n [22. ]\n [11.9]]\n"
     ]
    }
   ],
   "source": [
    "y_data=np.array(y_data).reshape(len(y_data),-1)\n",
    "print(y_data)# chuyen ve ma trạn 2 chièu"
   ]
  },
  {
   "cell_type": "code",
   "execution_count": 13,
   "metadata": {},
   "outputs": [],
   "source": [
    "from sklearn.model_selection import train_test_split \n",
    "x_train, x_test, y_train, y_test = train_test_split(x_data, y_data, test_size=0.3)#tách làm test với train theo tỉ lẹ (ngẫu nhiên)\n"
   ]
  },
  {
   "cell_type": "code",
   "execution_count": 35,
   "metadata": {},
   "outputs": [],
   "source": [
    "\n",
    "class LinearRegession:\n",
    "    def normal_equation(self,features,lables):\n",
    "        return np.linalg.inv(features.T@features)@(features.T@lables)\n",
    "    def __init__(self,features,lables):\n",
    "        self.features=features\n",
    "        self.lables=lables\n",
    "\n",
    "        n_dim=self.features.shape[1]\n",
    "        self.weight=np.random.rand(n_dim ,1)\n",
    "        self.bias=np.random.randn()\n",
    "\n",
    "    def predict(self,featutes):\n",
    "        return np.add(np.matmul(featutes,self.weight),self.bias)\n",
    "    def mean_square_error(self,feature,lables):\n",
    "        return np.mean(np.square(self.predict(feature)-lables))/2.0\n",
    "    def Derivative(self, features, lables):\n",
    "        derivative_weight=np.mean(features.T@(self.predict(features)-lables))\n",
    "        derivative_bias=np.mean((self.predict(features)-lables))/2.0\n",
    "        return np.array([derivative_weight,derivative_bias])\n",
    "\n",
    "    def update_weight(self,features,lables,lr):\n",
    "        grad=self.Derivative(features,lables)\n",
    "        self.weight-=lr*grad[0]\n",
    "        self.bias-=lr*grad[1]\n",
    "\n",
    "    def run_mod(self,lr):\n",
    "        self.lr=lr\n",
    "        self.update_weight(self.features,self.lables,self.lr)\n",
    "\n"
   ]
  },
  {
   "cell_type": "code",
   "execution_count": 36,
   "metadata": {},
   "outputs": [],
   "source": [
    "lr=0.0001\n",
    "epochs=1000\n",
    "model=LinearRegression(x_train,y_train)\n",
    "line_loss=[]"
   ]
  },
  {
   "cell_type": "code",
   "execution_count": 38,
   "metadata": {},
   "outputs": [
    {
     "output_type": "stream",
     "name": "stdout",
     "text": [
      "epochs          test_loss\n"
     ]
    },
    {
     "output_type": "error",
     "ename": "AttributeError",
     "evalue": "'LinearRegression' object has no attribute 'run_mod'",
     "traceback": [
      "\u001b[1;31m---------------------------------------------------------------------------\u001b[0m",
      "\u001b[1;31mAttributeError\u001b[0m                            Traceback (most recent call last)",
      "\u001b[1;32m<ipython-input-38-c9df33f26bd8>\u001b[0m in \u001b[0;36m<module>\u001b[1;34m\u001b[0m\n\u001b[0;32m      1\u001b[0m \u001b[0mprint\u001b[0m\u001b[1;33m(\u001b[0m\u001b[1;34m\"epochs  \"\u001b[0m\u001b[1;33m,\u001b[0m\u001b[1;34m\"       test_loss\"\u001b[0m\u001b[1;33m)\u001b[0m\u001b[1;33m\u001b[0m\u001b[1;33m\u001b[0m\u001b[0m\n\u001b[0;32m      2\u001b[0m \u001b[1;32mfor\u001b[0m \u001b[0mi\u001b[0m \u001b[1;32min\u001b[0m \u001b[0mrange\u001b[0m\u001b[1;33m(\u001b[0m\u001b[0mepochs\u001b[0m\u001b[1;33m)\u001b[0m\u001b[1;33m:\u001b[0m\u001b[1;33m\u001b[0m\u001b[1;33m\u001b[0m\u001b[0m\n\u001b[1;32m----> 3\u001b[1;33m     \u001b[0mmodel\u001b[0m\u001b[1;33m.\u001b[0m\u001b[0mrun_mod\u001b[0m\u001b[1;33m(\u001b[0m\u001b[0mlr\u001b[0m\u001b[1;33m=\u001b[0m\u001b[0mlr\u001b[0m\u001b[1;33m)\u001b[0m\u001b[1;33m\u001b[0m\u001b[1;33m\u001b[0m\u001b[0m\n\u001b[0m\u001b[0;32m      4\u001b[0m     \u001b[0mtest_loss\u001b[0m \u001b[1;33m=\u001b[0m\u001b[0mmodel\u001b[0m\u001b[1;33m.\u001b[0m\u001b[0mmean_square_error\u001b[0m\u001b[1;33m(\u001b[0m\u001b[0mx_test\u001b[0m\u001b[1;33m,\u001b[0m\u001b[0my_test\u001b[0m\u001b[1;33m)\u001b[0m\u001b[1;33m\u001b[0m\u001b[1;33m\u001b[0m\u001b[0m\n\u001b[0;32m      5\u001b[0m     \u001b[0mline_loss\u001b[0m\u001b[1;33m.\u001b[0m\u001b[0mappend\u001b[0m\u001b[1;33m(\u001b[0m\u001b[0mtest_loss\u001b[0m\u001b[1;33m)\u001b[0m\u001b[1;33m\u001b[0m\u001b[1;33m\u001b[0m\u001b[0m\n",
      "\u001b[1;31mAttributeError\u001b[0m: 'LinearRegression' object has no attribute 'run_mod'"
     ]
    }
   ],
   "source": [
    "print(\"epochs  \",\"       test_loss\")\n",
    "for i in range(epochs):\n",
    "    model.run_mod(lr=lr)\n",
    "    test_loss =model.mean_square_error(x_test,y_test)\n",
    "    line_loss.append(test_loss)\n",
    "    if(epochs %10):\n",
    "        print(epochs,\"       \",test_loss)\n",
    "print(\"finsh\")\n"
   ]
  },
  {
   "cell_type": "code",
   "execution_count": null,
   "metadata": {},
   "outputs": [],
   "source": []
  }
 ]
}